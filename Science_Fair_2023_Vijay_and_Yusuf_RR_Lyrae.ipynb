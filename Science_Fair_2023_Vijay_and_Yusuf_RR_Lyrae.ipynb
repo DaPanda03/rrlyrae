{
  "cells": [
    {
      "cell_type": "markdown",
      "metadata": {
        "id": "view-in-github",
        "colab_type": "text"
      },
      "source": [
        "<a href=\"https://colab.research.google.com/github/DaPanda03/rrlyrae/blob/main/Science_Fair_2023_Vijay_and_Yusuf_RR_Lyrae.ipynb\" target=\"_parent\"><img src=\"https://colab.research.google.com/assets/colab-badge.svg\" alt=\"Open In Colab\"/></a>"
      ]
    },
    {
      "cell_type": "markdown",
      "source": [
        "# Investigating Trends in Absolute Magnitudes of RR Lyrae Variable Stars"
      ],
      "metadata": {
        "id": "huS3a0lB2DDa"
      }
    },
    {
      "cell_type": "code",
      "source": [
        "# run command to connect to local system\n",
        "#jupyter notebook --NotebookApp.allow_origin='https://colab.research.google.com' --port=8888 --NotebookApp.port_retries=0"
      ],
      "metadata": {
        "id": "SX3HiOVI7uJT"
      },
      "execution_count": null,
      "outputs": []
    },
    {
      "cell_type": "markdown",
      "source": [
        "Installing all Packages"
      ],
      "metadata": {
        "id": "VjmFK3501tV4"
      }
    },
    {
      "cell_type": "code",
      "source": [
        "#run this twice\n",
        "!pip install -q condacolab\n",
        "!pip install pandas\n",
        "!pip install matplotlib\n",
        "!pip install seaborn\n",
        "import condacolab\n",
        "condacolab.install()"
      ],
      "metadata": {
        "id": "PdlmSaxL1SY-"
      },
      "execution_count": null,
      "outputs": []
    },
    {
      "cell_type": "markdown",
      "source": [
        "Importing all Files"
      ],
      "metadata": {
        "id": "r0cQ2JPr2AG2"
      }
    },
    {
      "cell_type": "code",
      "execution_count": null,
      "metadata": {
        "id": "ZowA-Xu0X7qf",
        "colab": {
          "base_uri": "https://localhost:8080/"
        },
        "outputId": "95fac1a6-a737-4604-c00c-773cccba0a88"
      },
      "outputs": [
        {
          "output_type": "stream",
          "name": "stdout",
          "text": [
            "✨🍰✨ Everything looks OK!\n"
          ]
        }
      ],
      "source": [
        "condacolab.check()\n",
        "import pandas as pd\n",
        "import numpy as np\n",
        "import seaborn as sns\n",
        "import matplotlib.pyplot as plt"
      ]
    },
    {
      "cell_type": "code",
      "source": [
        "table = pd.read_csv(\"Science Fair RR Lyrae Datasheet - Sheet1.csv\")\n",
        "table = table.dropna()\n",
        "table[\"absolutemag\"] = (5 * np.log10(table['dist']) - 5 - table[\"mean_vmag\"]) * -1\n",
        "table.head()"
      ],
      "metadata": {
        "id": "FoAP60V8EHQy",
        "colab": {
          "base_uri": "https://localhost:8080/",
          "height": 357
        },
        "outputId": "4fa193de-4ce7-45a0-df61-6792c8c3fb2b"
      },
      "execution_count": null,
      "outputs": [
        {
          "output_type": "execute_result",
          "data": {
            "text/plain": [
              "   index   source_id                   asassn_name variable_type  parallax  \\\n",
              "0      0      505934  ASASSN-V J174610.37-152619.8          RRAB    0.1123   \n",
              "1      1      504046  ASASSN-V J191731.48+353617.0          RRAB    0.1132   \n",
              "2      2      456284  ASASSN-V J062011.28+675148.4           RRC    0.0929   \n",
              "3      3  AP39443219  ASASSN-V J075015.49-645653.0           RRC    0.5339   \n",
              "4      4      464409  ASASSN-V J183205.91-494042.9          RRAB    0.0887   \n",
              "\n",
              "   mean_vmag      dist    period  parallax_error  absolutemag  \n",
              "0      16.05  5527.884  0.618020          0.0387     2.337205  \n",
              "1      14.66  6680.728  0.605930          0.0162     0.535881  \n",
              "2      15.13  6573.140  0.329610          0.0259     1.041136  \n",
              "3      13.68  1758.571  0.357864          0.0106     2.454200  \n",
              "4      14.74  6070.996  0.527170          0.0325     0.823700  "
            ],
            "text/html": [
              "\n",
              "  <div id=\"df-2b64a1da-19ac-4ac1-bfd8-abfa312cae73\">\n",
              "    <div class=\"colab-df-container\">\n",
              "      <div>\n",
              "<style scoped>\n",
              "    .dataframe tbody tr th:only-of-type {\n",
              "        vertical-align: middle;\n",
              "    }\n",
              "\n",
              "    .dataframe tbody tr th {\n",
              "        vertical-align: top;\n",
              "    }\n",
              "\n",
              "    .dataframe thead th {\n",
              "        text-align: right;\n",
              "    }\n",
              "</style>\n",
              "<table border=\"1\" class=\"dataframe\">\n",
              "  <thead>\n",
              "    <tr style=\"text-align: right;\">\n",
              "      <th></th>\n",
              "      <th>index</th>\n",
              "      <th>source_id</th>\n",
              "      <th>asassn_name</th>\n",
              "      <th>variable_type</th>\n",
              "      <th>parallax</th>\n",
              "      <th>mean_vmag</th>\n",
              "      <th>dist</th>\n",
              "      <th>period</th>\n",
              "      <th>parallax_error</th>\n",
              "      <th>absolutemag</th>\n",
              "    </tr>\n",
              "  </thead>\n",
              "  <tbody>\n",
              "    <tr>\n",
              "      <th>0</th>\n",
              "      <td>0</td>\n",
              "      <td>505934</td>\n",
              "      <td>ASASSN-V J174610.37-152619.8</td>\n",
              "      <td>RRAB</td>\n",
              "      <td>0.1123</td>\n",
              "      <td>16.05</td>\n",
              "      <td>5527.884</td>\n",
              "      <td>0.618020</td>\n",
              "      <td>0.0387</td>\n",
              "      <td>2.337205</td>\n",
              "    </tr>\n",
              "    <tr>\n",
              "      <th>1</th>\n",
              "      <td>1</td>\n",
              "      <td>504046</td>\n",
              "      <td>ASASSN-V J191731.48+353617.0</td>\n",
              "      <td>RRAB</td>\n",
              "      <td>0.1132</td>\n",
              "      <td>14.66</td>\n",
              "      <td>6680.728</td>\n",
              "      <td>0.605930</td>\n",
              "      <td>0.0162</td>\n",
              "      <td>0.535881</td>\n",
              "    </tr>\n",
              "    <tr>\n",
              "      <th>2</th>\n",
              "      <td>2</td>\n",
              "      <td>456284</td>\n",
              "      <td>ASASSN-V J062011.28+675148.4</td>\n",
              "      <td>RRC</td>\n",
              "      <td>0.0929</td>\n",
              "      <td>15.13</td>\n",
              "      <td>6573.140</td>\n",
              "      <td>0.329610</td>\n",
              "      <td>0.0259</td>\n",
              "      <td>1.041136</td>\n",
              "    </tr>\n",
              "    <tr>\n",
              "      <th>3</th>\n",
              "      <td>3</td>\n",
              "      <td>AP39443219</td>\n",
              "      <td>ASASSN-V J075015.49-645653.0</td>\n",
              "      <td>RRC</td>\n",
              "      <td>0.5339</td>\n",
              "      <td>13.68</td>\n",
              "      <td>1758.571</td>\n",
              "      <td>0.357864</td>\n",
              "      <td>0.0106</td>\n",
              "      <td>2.454200</td>\n",
              "    </tr>\n",
              "    <tr>\n",
              "      <th>4</th>\n",
              "      <td>4</td>\n",
              "      <td>464409</td>\n",
              "      <td>ASASSN-V J183205.91-494042.9</td>\n",
              "      <td>RRAB</td>\n",
              "      <td>0.0887</td>\n",
              "      <td>14.74</td>\n",
              "      <td>6070.996</td>\n",
              "      <td>0.527170</td>\n",
              "      <td>0.0325</td>\n",
              "      <td>0.823700</td>\n",
              "    </tr>\n",
              "  </tbody>\n",
              "</table>\n",
              "</div>\n",
              "      <button class=\"colab-df-convert\" onclick=\"convertToInteractive('df-2b64a1da-19ac-4ac1-bfd8-abfa312cae73')\"\n",
              "              title=\"Convert this dataframe to an interactive table.\"\n",
              "              style=\"display:none;\">\n",
              "        \n",
              "  <svg xmlns=\"http://www.w3.org/2000/svg\" height=\"24px\"viewBox=\"0 0 24 24\"\n",
              "       width=\"24px\">\n",
              "    <path d=\"M0 0h24v24H0V0z\" fill=\"none\"/>\n",
              "    <path d=\"M18.56 5.44l.94 2.06.94-2.06 2.06-.94-2.06-.94-.94-2.06-.94 2.06-2.06.94zm-11 1L8.5 8.5l.94-2.06 2.06-.94-2.06-.94L8.5 2.5l-.94 2.06-2.06.94zm10 10l.94 2.06.94-2.06 2.06-.94-2.06-.94-.94-2.06-.94 2.06-2.06.94z\"/><path d=\"M17.41 7.96l-1.37-1.37c-.4-.4-.92-.59-1.43-.59-.52 0-1.04.2-1.43.59L10.3 9.45l-7.72 7.72c-.78.78-.78 2.05 0 2.83L4 21.41c.39.39.9.59 1.41.59.51 0 1.02-.2 1.41-.59l7.78-7.78 2.81-2.81c.8-.78.8-2.07 0-2.86zM5.41 20L4 18.59l7.72-7.72 1.47 1.35L5.41 20z\"/>\n",
              "  </svg>\n",
              "      </button>\n",
              "      \n",
              "  <style>\n",
              "    .colab-df-container {\n",
              "      display:flex;\n",
              "      flex-wrap:wrap;\n",
              "      gap: 12px;\n",
              "    }\n",
              "\n",
              "    .colab-df-convert {\n",
              "      background-color: #E8F0FE;\n",
              "      border: none;\n",
              "      border-radius: 50%;\n",
              "      cursor: pointer;\n",
              "      display: none;\n",
              "      fill: #1967D2;\n",
              "      height: 32px;\n",
              "      padding: 0 0 0 0;\n",
              "      width: 32px;\n",
              "    }\n",
              "\n",
              "    .colab-df-convert:hover {\n",
              "      background-color: #E2EBFA;\n",
              "      box-shadow: 0px 1px 2px rgba(60, 64, 67, 0.3), 0px 1px 3px 1px rgba(60, 64, 67, 0.15);\n",
              "      fill: #174EA6;\n",
              "    }\n",
              "\n",
              "    [theme=dark] .colab-df-convert {\n",
              "      background-color: #3B4455;\n",
              "      fill: #D2E3FC;\n",
              "    }\n",
              "\n",
              "    [theme=dark] .colab-df-convert:hover {\n",
              "      background-color: #434B5C;\n",
              "      box-shadow: 0px 1px 3px 1px rgba(0, 0, 0, 0.15);\n",
              "      filter: drop-shadow(0px 1px 2px rgba(0, 0, 0, 0.3));\n",
              "      fill: #FFFFFF;\n",
              "    }\n",
              "  </style>\n",
              "\n",
              "      <script>\n",
              "        const buttonEl =\n",
              "          document.querySelector('#df-2b64a1da-19ac-4ac1-bfd8-abfa312cae73 button.colab-df-convert');\n",
              "        buttonEl.style.display =\n",
              "          google.colab.kernel.accessAllowed ? 'block' : 'none';\n",
              "\n",
              "        async function convertToInteractive(key) {\n",
              "          const element = document.querySelector('#df-2b64a1da-19ac-4ac1-bfd8-abfa312cae73');\n",
              "          const dataTable =\n",
              "            await google.colab.kernel.invokeFunction('convertToInteractive',\n",
              "                                                     [key], {});\n",
              "          if (!dataTable) return;\n",
              "\n",
              "          const docLinkHtml = 'Like what you see? Visit the ' +\n",
              "            '<a target=\"_blank\" href=https://colab.research.google.com/notebooks/data_table.ipynb>data table notebook</a>'\n",
              "            + ' to learn more about interactive tables.';\n",
              "          element.innerHTML = '';\n",
              "          dataTable['output_type'] = 'display_data';\n",
              "          await google.colab.output.renderOutput(dataTable, element);\n",
              "          const docLink = document.createElement('div');\n",
              "          docLink.innerHTML = docLinkHtml;\n",
              "          element.appendChild(docLink);\n",
              "        }\n",
              "      </script>\n",
              "    </div>\n",
              "  </div>\n",
              "  "
            ]
          },
          "metadata": {},
          "execution_count": 5
        }
      ]
    },
    {
      "cell_type": "markdown",
      "source": [
        "## Basic Machine Learning Model with Random Forest Regressor\n"
      ],
      "metadata": {
        "id": "bSpTFKRKTq8W"
      }
    },
    {
      "cell_type": "code",
      "execution_count": null,
      "metadata": {
        "id": "osgoHb11PwT3"
      },
      "outputs": [],
      "source": [
        "from sklearn import metrics\n",
        "from sklearn.ensemble import RandomForestRegressor\n",
        "from sklearn.model_selection import train_test_split\n",
        "from sklearn import metrics"
      ]
    },
    {
      "cell_type": "code",
      "execution_count": null,
      "metadata": {
        "id": "DVFq8Yo3ZwHu"
      },
      "outputs": [],
      "source": [
        "def get_fingerprint(index):\n",
        "  rtarray = [table[\"dist\"][index]]\n",
        "  rtarray.append(table[\"mean_vmag\"][index])\n",
        "  #return array1\n",
        "  return np.array(rtarray)\n",
        "type(table[\"index\"].apply(get_fingerprint))\n",
        "table[\"fingerprint\"] = table[\"index\"].apply(get_fingerprint)\n",
        "table.head()\n",
        "X = table[\"fingerprint\"].values.tolist()\n",
        "y = table[\"absolutemag\"].values.tolist()\n",
        "\n",
        "X_train, X_test, y_train, y_test = train_test_split(X,y,test_size=0.2,random_state=42)\n",
        "\n",
        "model = RandomForestRegressor(random_state=42)\n",
        "model.fit(X_train, y_train)\n",
        "y_predict = model.predict(X_test)"
      ]
    },
    {
      "cell_type": "code",
      "execution_count": null,
      "metadata": {
        "id": "G8PLgyDGRlsg",
        "colab": {
          "base_uri": "https://localhost:8080/",
          "height": 348
        },
        "outputId": "709d07b8-bcea-41f2-cc7f-b283fbbe39ea"
      },
      "outputs": [
        {
          "output_type": "stream",
          "name": "stdout",
          "text": [
            "R2 score is  0.996642782299333\n",
            "mean absolute error is  0.023150636578330268\n",
            "mean_squared_error is  0.0045932828637022995\n"
          ]
        },
        {
          "output_type": "execute_result",
          "data": {
            "text/plain": [
              "Text(0, 0.5, 'Predicted values')"
            ]
          },
          "metadata": {},
          "execution_count": 9
        },
        {
          "output_type": "display_data",
          "data": {
            "text/plain": [
              "<Figure size 432x288 with 1 Axes>"
            ],
            "image/png": "[encoded data removed]"
          },
          "metadata": {
            "needs_background": "light"
          }
        }
      ],
      "source": [
        "print(\"R2 score is \",metrics.r2_score(y_predict,y_test))\n",
        "print(\"mean absolute error is \",metrics.mean_absolute_error(y_predict,y_test))\n",
        "print(\"mean_squared_error is \",metrics.mean_squared_error(y_predict,y_test))\n",
        "x = np.arange(-2, 5, 10)\n",
        "\n",
        "plt.scatter(y_test,y_predict)\n",
        "plt.plot(x,x,color=\"red\")\n",
        "plt.xlabel(\"True values\")\n",
        "plt.ylabel(\"Predicted values\")"
      ]
    },
    {
      "cell_type": "markdown",
      "source": [
        "## Machine Learning model to compare Period with Absolute Magnitude"
      ],
      "metadata": {
        "id": "nYNjDey4Vz4C"
      }
    },
    {
      "cell_type": "code",
      "source": [
        "def get_periodprint(index):\n",
        "  rtarray = [table[\"period\"][index]]\n",
        "  rtarray.append(table[\"period\"][index])\n",
        "  return np.array(rtarray)\n",
        "table[\"periodprint\"] = table[\"index\"].apply(get_periodprint)\n",
        "X1 = table[\"periodprint\"].values.tolist()\n",
        "y1 = table[\"absolutemag\"].values.tolist()\n",
        "\n",
        "X1_train, X1_test, y1_train, y1_test = train_test_split(X1,y1,test_size=0.2,random_state=42)\n",
        "\n",
        "model = RandomForestRegressor(random_state=42)\n",
        "model.fit(X1_train, y1_train)\n",
        "y1_predict = model.predict(X1_test)\n",
        "\n",
        "print(\"R2 score is \",metrics.r2_score(y1_predict,y1_test))\n",
        "print(\"mean absolute error is \",metrics.mean_absolute_error(y1_predict,y1_test))\n",
        "print(\"mean_squared_error is \",metrics.mean_squared_error(y1_predict,y1_test))\n",
        "\n",
        "x1 = np.arange(-2, 5, 10)\n",
        "\n",
        "plt.scatter(y1_test,y1_predict)\n",
        "plt.plot(x1,x1,color=\"red\")\n",
        "plt.xlabel(\"True values\")\n",
        "plt.ylabel(\"Predicted values\")"
      ],
      "metadata": {
        "id": "hTSX5fxJqXvc"
      },
      "execution_count": null,
      "outputs": []
    },
    {
      "cell_type": "markdown",
      "source": [
        "There is clearly no correlation between Period and Absolute Magnitude for RR Lyrae Variable Stars"
      ],
      "metadata": {
        "id": "itsrkNVGrnmY"
      }
    },
    {
      "cell_type": "markdown",
      "source": [
        "## Machine Learning model to compare Apparent Magnitude and Parallax with Absolute Magnitude"
      ],
      "metadata": {
        "id": "39xJJ9q0V_No"
      }
    },
    {
      "cell_type": "code",
      "source": [
        "def get_paramagprint(index):\n",
        "  rtarray = [table[\"parallax\"][index]]\n",
        "  rtarray.append(table[\"mean_vmag\"][index])\n",
        "  #return array1\n",
        "  return np.array(rtarray)\n",
        "type(table[\"index\"].apply(get_paramagprint))\n",
        "table[\"paramagprint\"] = table[\"index\"].apply(get_paramagprint)\n",
        "table.head()\n",
        "X2 = table[\"paramagprint\"].values.tolist()\n",
        "y2 = table[\"absolutemag\"].values.tolist()\n",
        "\n",
        "X_train2, X_test2, y_train2, y_test2 = train_test_split(X2,y2,test_size=0.2,random_state=42)\n",
        "\n",
        "model = RandomForestRegressor(random_state=42)\n",
        "model.fit(X_train2, y_train2)\n",
        "y_predict2 = model.predict(X_test2)\n",
        "\n",
        "print(\"R2 score is \",metrics.r2_score(y_predict2,y_test2))\n",
        "print(\"mean absolute error is \",metrics.mean_absolute_error(y_predict2,y_test2))\n",
        "print(\"mean_squared_error is \",metrics.mean_squared_error(y_predict2,y_test2))\n",
        "x = np.arange(-2, 5, 10)\n",
        "\n",
        "plt.scatter(y_test2,y_predict2)\n",
        "plt.plot(x,x,color=\"red\")\n",
        "plt.xlabel(\"True values\")\n",
        "plt.ylabel(\"Predicted values\")"
      ],
      "metadata": {
        "id": "vKrbxsDBGX7J",
        "colab": {
          "base_uri": "https://localhost:8080/",
          "height": 348
        },
        "outputId": "5d6f5418-177f-493f-a5f2-43224cce0035"
      },
      "execution_count": null,
      "outputs": [
        {
          "output_type": "stream",
          "name": "stdout",
          "text": [
            "R2 score is  0.7093248221047466\n",
            "mean absolute error is  0.3006274044775881\n",
            "mean_squared_error is  0.3571670420619686\n"
          ]
        },
        {
          "output_type": "execute_result",
          "data": {
            "text/plain": [
              "Text(0, 0.5, 'Predicted values')"
            ]
          },
          "metadata": {},
          "execution_count": 32
        },
        {
          "output_type": "display_data",
          "data": {
            "text/plain": [
              "<Figure size 432x288 with 1 Axes>"
            ],
            "image/png": "[encoded data removed]"
          },
          "metadata": {
            "needs_background": "light"
          }
        }
      ]
    },
    {
      "cell_type": "markdown",
      "source": [
        "## Seperate table into subtypes of RR Lyrae"
      ],
      "metadata": {
        "id": "FuXiktNkd-ni"
      }
    },
    {
      "cell_type": "code",
      "source": [
        "rrab = pd.read_csv(\"Science Fair RRAB Lyrae Datasheet - Sheet1.csv\")\n",
        "rrab = rrab.dropna()\n",
        "rrab[\"absolutemag\"] = (5 * np.log10(rrab['dist']) - 5 - rrab[\"mean_vmag\"]) * -1\n",
        "\n",
        "rrc = pd.read_csv(\"Science Fair RRC Lyrae Datasheet - Sheet1.csv\")\n",
        "rrc = rrc.dropna()\n",
        "rrc[\"absolutemag\"] = (5 * np.log10(rrc['dist']) - 5 - rrc[\"mean_vmag\"]) * -1\n",
        "\n",
        "rrd = pd.read_csv(\"Science Fair RRD Lyrae Datasheet - Sheet1.csv\")\n",
        "rrd = rrd.dropna()\n",
        "rrd[\"absolutemag\"] = (5 * np.log10(rrd['dist']) - 5 - rrd[\"mean_vmag\"]) * -1"
      ],
      "metadata": {
        "id": "zX9s59UmJL9A"
      },
      "execution_count": null,
      "outputs": []
    },
    {
      "cell_type": "code",
      "source": [
        "rrab.head()"
      ],
      "metadata": {
        "id": "02c2Epv_YgPy",
        "colab": {
          "base_uri": "https://localhost:8080/",
          "height": 357
        },
        "outputId": "5c0b8bac-a638-4068-8a55-33bb19fbcba2"
      },
      "execution_count": null,
      "outputs": [
        {
          "output_type": "execute_result",
          "data": {
            "text/plain": [
              "   index source_id                   asassn_name variable_type  parallax  \\\n",
              "0      0    505934  ASASSN-V J174610.37-152619.8          RRAB    0.1123   \n",
              "1      1    504046  ASASSN-V J191731.48+353617.0          RRAB    0.1132   \n",
              "2      2    464409  ASASSN-V J183205.91-494042.9          RRAB    0.0887   \n",
              "3      3    467939  ASASSN-V J044831.66+261108.7          RRAB    0.2480   \n",
              "4      4    454574  ASASSN-V J190716.49-292957.3          RRAB    0.1379   \n",
              "\n",
              "   mean_vmag      dist   period  parallax_error  absolutemag  \n",
              "0      16.05  5527.884  0.61802          0.0387     2.337205  \n",
              "1      14.66  6680.728  0.60593          0.0162     0.535881  \n",
              "2      14.74  6070.996  0.52717          0.0325     0.823700  \n",
              "3      16.01  3204.071  0.47256          0.0407     3.481489  \n",
              "4      14.46  4925.933  0.56074          0.0366     0.997557  "
            ],
            "text/html": [
              "\n",
              "  <div id=\"df-80cb2b6b-fd65-4287-8e17-d78c0001d149\">\n",
              "    <div class=\"colab-df-container\">\n",
              "      <div>\n",
              "<style scoped>\n",
              "    .dataframe tbody tr th:only-of-type {\n",
              "        vertical-align: middle;\n",
              "    }\n",
              "\n",
              "    .dataframe tbody tr th {\n",
              "        vertical-align: top;\n",
              "    }\n",
              "\n",
              "    .dataframe thead th {\n",
              "        text-align: right;\n",
              "    }\n",
              "</style>\n",
              "<table border=\"1\" class=\"dataframe\">\n",
              "  <thead>\n",
              "    <tr style=\"text-align: right;\">\n",
              "      <th></th>\n",
              "      <th>index</th>\n",
              "      <th>source_id</th>\n",
              "      <th>asassn_name</th>\n",
              "      <th>variable_type</th>\n",
              "      <th>parallax</th>\n",
              "      <th>mean_vmag</th>\n",
              "      <th>dist</th>\n",
              "      <th>period</th>\n",
              "      <th>parallax_error</th>\n",
              "      <th>absolutemag</th>\n",
              "    </tr>\n",
              "  </thead>\n",
              "  <tbody>\n",
              "    <tr>\n",
              "      <th>0</th>\n",
              "      <td>0</td>\n",
              "      <td>505934</td>\n",
              "      <td>ASASSN-V J174610.37-152619.8</td>\n",
              "      <td>RRAB</td>\n",
              "      <td>0.1123</td>\n",
              "      <td>16.05</td>\n",
              "      <td>5527.884</td>\n",
              "      <td>0.61802</td>\n",
              "      <td>0.0387</td>\n",
              "      <td>2.337205</td>\n",
              "    </tr>\n",
              "    <tr>\n",
              "      <th>1</th>\n",
              "      <td>1</td>\n",
              "      <td>504046</td>\n",
              "      <td>ASASSN-V J191731.48+353617.0</td>\n",
              "      <td>RRAB</td>\n",
              "      <td>0.1132</td>\n",
              "      <td>14.66</td>\n",
              "      <td>6680.728</td>\n",
              "      <td>0.60593</td>\n",
              "      <td>0.0162</td>\n",
              "      <td>0.535881</td>\n",
              "    </tr>\n",
              "    <tr>\n",
              "      <th>2</th>\n",
              "      <td>2</td>\n",
              "      <td>464409</td>\n",
              "      <td>ASASSN-V J183205.91-494042.9</td>\n",
              "      <td>RRAB</td>\n",
              "      <td>0.0887</td>\n",
              "      <td>14.74</td>\n",
              "      <td>6070.996</td>\n",
              "      <td>0.52717</td>\n",
              "      <td>0.0325</td>\n",
              "      <td>0.823700</td>\n",
              "    </tr>\n",
              "    <tr>\n",
              "      <th>3</th>\n",
              "      <td>3</td>\n",
              "      <td>467939</td>\n",
              "      <td>ASASSN-V J044831.66+261108.7</td>\n",
              "      <td>RRAB</td>\n",
              "      <td>0.2480</td>\n",
              "      <td>16.01</td>\n",
              "      <td>3204.071</td>\n",
              "      <td>0.47256</td>\n",
              "      <td>0.0407</td>\n",
              "      <td>3.481489</td>\n",
              "    </tr>\n",
              "    <tr>\n",
              "      <th>4</th>\n",
              "      <td>4</td>\n",
              "      <td>454574</td>\n",
              "      <td>ASASSN-V J190716.49-292957.3</td>\n",
              "      <td>RRAB</td>\n",
              "      <td>0.1379</td>\n",
              "      <td>14.46</td>\n",
              "      <td>4925.933</td>\n",
              "      <td>0.56074</td>\n",
              "      <td>0.0366</td>\n",
              "      <td>0.997557</td>\n",
              "    </tr>\n",
              "  </tbody>\n",
              "</table>\n",
              "</div>\n",
              "      <button class=\"colab-df-convert\" onclick=\"convertToInteractive('df-80cb2b6b-fd65-4287-8e17-d78c0001d149')\"\n",
              "              title=\"Convert this dataframe to an interactive table.\"\n",
              "              style=\"display:none;\">\n",
              "        \n",
              "  <svg xmlns=\"http://www.w3.org/2000/svg\" height=\"24px\"viewBox=\"0 0 24 24\"\n",
              "       width=\"24px\">\n",
              "    <path d=\"M0 0h24v24H0V0z\" fill=\"none\"/>\n",
              "    <path d=\"M18.56 5.44l.94 2.06.94-2.06 2.06-.94-2.06-.94-.94-2.06-.94 2.06-2.06.94zm-11 1L8.5 8.5l.94-2.06 2.06-.94-2.06-.94L8.5 2.5l-.94 2.06-2.06.94zm10 10l.94 2.06.94-2.06 2.06-.94-2.06-.94-.94-2.06-.94 2.06-2.06.94z\"/><path d=\"M17.41 7.96l-1.37-1.37c-.4-.4-.92-.59-1.43-.59-.52 0-1.04.2-1.43.59L10.3 9.45l-7.72 7.72c-.78.78-.78 2.05 0 2.83L4 21.41c.39.39.9.59 1.41.59.51 0 1.02-.2 1.41-.59l7.78-7.78 2.81-2.81c.8-.78.8-2.07 0-2.86zM5.41 20L4 18.59l7.72-7.72 1.47 1.35L5.41 20z\"/>\n",
              "  </svg>\n",
              "      </button>\n",
              "      \n",
              "  <style>\n",
              "    .colab-df-container {\n",
              "      display:flex;\n",
              "      flex-wrap:wrap;\n",
              "      gap: 12px;\n",
              "    }\n",
              "\n",
              "    .colab-df-convert {\n",
              "      background-color: #E8F0FE;\n",
              "      border: none;\n",
              "      border-radius: 50%;\n",
              "      cursor: pointer;\n",
              "      display: none;\n",
              "      fill: #1967D2;\n",
              "      height: 32px;\n",
              "      padding: 0 0 0 0;\n",
              "      width: 32px;\n",
              "    }\n",
              "\n",
              "    .colab-df-convert:hover {\n",
              "      background-color: #E2EBFA;\n",
              "      box-shadow: 0px 1px 2px rgba(60, 64, 67, 0.3), 0px 1px 3px 1px rgba(60, 64, 67, 0.15);\n",
              "      fill: #174EA6;\n",
              "    }\n",
              "\n",
              "    [theme=dark] .colab-df-convert {\n",
              "      background-color: #3B4455;\n",
              "      fill: #D2E3FC;\n",
              "    }\n",
              "\n",
              "    [theme=dark] .colab-df-convert:hover {\n",
              "      background-color: #434B5C;\n",
              "      box-shadow: 0px 1px 3px 1px rgba(0, 0, 0, 0.15);\n",
              "      filter: drop-shadow(0px 1px 2px rgba(0, 0, 0, 0.3));\n",
              "      fill: #FFFFFF;\n",
              "    }\n",
              "  </style>\n",
              "\n",
              "      <script>\n",
              "        const buttonEl =\n",
              "          document.querySelector('#df-80cb2b6b-fd65-4287-8e17-d78c0001d149 button.colab-df-convert');\n",
              "        buttonEl.style.display =\n",
              "          google.colab.kernel.accessAllowed ? 'block' : 'none';\n",
              "\n",
              "        async function convertToInteractive(key) {\n",
              "          const element = document.querySelector('#df-80cb2b6b-fd65-4287-8e17-d78c0001d149');\n",
              "          const dataTable =\n",
              "            await google.colab.kernel.invokeFunction('convertToInteractive',\n",
              "                                                     [key], {});\n",
              "          if (!dataTable) return;\n",
              "\n",
              "          const docLinkHtml = 'Like what you see? Visit the ' +\n",
              "            '<a target=\"_blank\" href=https://colab.research.google.com/notebooks/data_table.ipynb>data table notebook</a>'\n",
              "            + ' to learn more about interactive tables.';\n",
              "          element.innerHTML = '';\n",
              "          dataTable['output_type'] = 'display_data';\n",
              "          await google.colab.output.renderOutput(dataTable, element);\n",
              "          const docLink = document.createElement('div');\n",
              "          docLink.innerHTML = docLinkHtml;\n",
              "          element.appendChild(docLink);\n",
              "        }\n",
              "      </script>\n",
              "    </div>\n",
              "  </div>\n",
              "  "
            ]
          },
          "metadata": {},
          "execution_count": 25
        }
      ]
    },
    {
      "cell_type": "code",
      "source": [
        "rrc.head()"
      ],
      "metadata": {
        "id": "Yu16GwdRYiXz",
        "colab": {
          "base_uri": "https://localhost:8080/",
          "height": 357
        },
        "outputId": "bf9b2648-995a-443f-d420-64dda54c13e5"
      },
      "execution_count": null,
      "outputs": [
        {
          "output_type": "execute_result",
          "data": {
            "text/plain": [
              "   index   source_id                   asassn_name variable_type  parallax  \\\n",
              "0      0      456284  ASASSN-V J062011.28+675148.4           RRC    0.0929   \n",
              "1      1  AP39443219  ASASSN-V J075015.49-645653.0           RRC    0.5339   \n",
              "2      2  AP12996825  ASASSN-V J223054.90+484124.0           RRC    1.4763   \n",
              "3      3  AP47329164  ASASSN-V J162906.98-761608.0           RRC    0.7880   \n",
              "4      4      450850  ASASSN-V J172133.04+035003.3           RRC    0.1501   \n",
              "\n",
              "   mean_vmag       dist    period  parallax_error  absolutemag  \n",
              "0      15.13  6573.1400  0.329610          0.0259     1.041136  \n",
              "1      13.68  1758.5710  0.357864          0.0106     2.454200  \n",
              "2      11.17   657.0154  0.288408          0.0181     2.082122  \n",
              "3      12.44  1217.6950  0.264165          0.0181     2.012307  \n",
              "4      13.98  4907.2900  0.376360          0.0268     0.525791  "
            ],
            "text/html": [
              "\n",
              "  <div id=\"df-38291a02-f5d0-461a-9166-7c1c36c3855f\">\n",
              "    <div class=\"colab-df-container\">\n",
              "      <div>\n",
              "<style scoped>\n",
              "    .dataframe tbody tr th:only-of-type {\n",
              "        vertical-align: middle;\n",
              "    }\n",
              "\n",
              "    .dataframe tbody tr th {\n",
              "        vertical-align: top;\n",
              "    }\n",
              "\n",
              "    .dataframe thead th {\n",
              "        text-align: right;\n",
              "    }\n",
              "</style>\n",
              "<table border=\"1\" class=\"dataframe\">\n",
              "  <thead>\n",
              "    <tr style=\"text-align: right;\">\n",
              "      <th></th>\n",
              "      <th>index</th>\n",
              "      <th>source_id</th>\n",
              "      <th>asassn_name</th>\n",
              "      <th>variable_type</th>\n",
              "      <th>parallax</th>\n",
              "      <th>mean_vmag</th>\n",
              "      <th>dist</th>\n",
              "      <th>period</th>\n",
              "      <th>parallax_error</th>\n",
              "      <th>absolutemag</th>\n",
              "    </tr>\n",
              "  </thead>\n",
              "  <tbody>\n",
              "    <tr>\n",
              "      <th>0</th>\n",
              "      <td>0</td>\n",
              "      <td>456284</td>\n",
              "      <td>ASASSN-V J062011.28+675148.4</td>\n",
              "      <td>RRC</td>\n",
              "      <td>0.0929</td>\n",
              "      <td>15.13</td>\n",
              "      <td>6573.1400</td>\n",
              "      <td>0.329610</td>\n",
              "      <td>0.0259</td>\n",
              "      <td>1.041136</td>\n",
              "    </tr>\n",
              "    <tr>\n",
              "      <th>1</th>\n",
              "      <td>1</td>\n",
              "      <td>AP39443219</td>\n",
              "      <td>ASASSN-V J075015.49-645653.0</td>\n",
              "      <td>RRC</td>\n",
              "      <td>0.5339</td>\n",
              "      <td>13.68</td>\n",
              "      <td>1758.5710</td>\n",
              "      <td>0.357864</td>\n",
              "      <td>0.0106</td>\n",
              "      <td>2.454200</td>\n",
              "    </tr>\n",
              "    <tr>\n",
              "      <th>2</th>\n",
              "      <td>2</td>\n",
              "      <td>AP12996825</td>\n",
              "      <td>ASASSN-V J223054.90+484124.0</td>\n",
              "      <td>RRC</td>\n",
              "      <td>1.4763</td>\n",
              "      <td>11.17</td>\n",
              "      <td>657.0154</td>\n",
              "      <td>0.288408</td>\n",
              "      <td>0.0181</td>\n",
              "      <td>2.082122</td>\n",
              "    </tr>\n",
              "    <tr>\n",
              "      <th>3</th>\n",
              "      <td>3</td>\n",
              "      <td>AP47329164</td>\n",
              "      <td>ASASSN-V J162906.98-761608.0</td>\n",
              "      <td>RRC</td>\n",
              "      <td>0.7880</td>\n",
              "      <td>12.44</td>\n",
              "      <td>1217.6950</td>\n",
              "      <td>0.264165</td>\n",
              "      <td>0.0181</td>\n",
              "      <td>2.012307</td>\n",
              "    </tr>\n",
              "    <tr>\n",
              "      <th>4</th>\n",
              "      <td>4</td>\n",
              "      <td>450850</td>\n",
              "      <td>ASASSN-V J172133.04+035003.3</td>\n",
              "      <td>RRC</td>\n",
              "      <td>0.1501</td>\n",
              "      <td>13.98</td>\n",
              "      <td>4907.2900</td>\n",
              "      <td>0.376360</td>\n",
              "      <td>0.0268</td>\n",
              "      <td>0.525791</td>\n",
              "    </tr>\n",
              "  </tbody>\n",
              "</table>\n",
              "</div>\n",
              "      <button class=\"colab-df-convert\" onclick=\"convertToInteractive('df-38291a02-f5d0-461a-9166-7c1c36c3855f')\"\n",
              "              title=\"Convert this dataframe to an interactive table.\"\n",
              "              style=\"display:none;\">\n",
              "        \n",
              "  <svg xmlns=\"http://www.w3.org/2000/svg\" height=\"24px\"viewBox=\"0 0 24 24\"\n",
              "       width=\"24px\">\n",
              "    <path d=\"M0 0h24v24H0V0z\" fill=\"none\"/>\n",
              "    <path d=\"M18.56 5.44l.94 2.06.94-2.06 2.06-.94-2.06-.94-.94-2.06-.94 2.06-2.06.94zm-11 1L8.5 8.5l.94-2.06 2.06-.94-2.06-.94L8.5 2.5l-.94 2.06-2.06.94zm10 10l.94 2.06.94-2.06 2.06-.94-2.06-.94-.94-2.06-.94 2.06-2.06.94z\"/><path d=\"M17.41 7.96l-1.37-1.37c-.4-.4-.92-.59-1.43-.59-.52 0-1.04.2-1.43.59L10.3 9.45l-7.72 7.72c-.78.78-.78 2.05 0 2.83L4 21.41c.39.39.9.59 1.41.59.51 0 1.02-.2 1.41-.59l7.78-7.78 2.81-2.81c.8-.78.8-2.07 0-2.86zM5.41 20L4 18.59l7.72-7.72 1.47 1.35L5.41 20z\"/>\n",
              "  </svg>\n",
              "      </button>\n",
              "      \n",
              "  <style>\n",
              "    .colab-df-container {\n",
              "      display:flex;\n",
              "      flex-wrap:wrap;\n",
              "      gap: 12px;\n",
              "    }\n",
              "\n",
              "    .colab-df-convert {\n",
              "      background-color: #E8F0FE;\n",
              "      border: none;\n",
              "      border-radius: 50%;\n",
              "      cursor: pointer;\n",
              "      display: none;\n",
              "      fill: #1967D2;\n",
              "      height: 32px;\n",
              "      padding: 0 0 0 0;\n",
              "      width: 32px;\n",
              "    }\n",
              "\n",
              "    .colab-df-convert:hover {\n",
              "      background-color: #E2EBFA;\n",
              "      box-shadow: 0px 1px 2px rgba(60, 64, 67, 0.3), 0px 1px 3px 1px rgba(60, 64, 67, 0.15);\n",
              "      fill: #174EA6;\n",
              "    }\n",
              "\n",
              "    [theme=dark] .colab-df-convert {\n",
              "      background-color: #3B4455;\n",
              "      fill: #D2E3FC;\n",
              "    }\n",
              "\n",
              "    [theme=dark] .colab-df-convert:hover {\n",
              "      background-color: #434B5C;\n",
              "      box-shadow: 0px 1px 3px 1px rgba(0, 0, 0, 0.15);\n",
              "      filter: drop-shadow(0px 1px 2px rgba(0, 0, 0, 0.3));\n",
              "      fill: #FFFFFF;\n",
              "    }\n",
              "  </style>\n",
              "\n",
              "      <script>\n",
              "        const buttonEl =\n",
              "          document.querySelector('#df-38291a02-f5d0-461a-9166-7c1c36c3855f button.colab-df-convert');\n",
              "        buttonEl.style.display =\n",
              "          google.colab.kernel.accessAllowed ? 'block' : 'none';\n",
              "\n",
              "        async function convertToInteractive(key) {\n",
              "          const element = document.querySelector('#df-38291a02-f5d0-461a-9166-7c1c36c3855f');\n",
              "          const dataTable =\n",
              "            await google.colab.kernel.invokeFunction('convertToInteractive',\n",
              "                                                     [key], {});\n",
              "          if (!dataTable) return;\n",
              "\n",
              "          const docLinkHtml = 'Like what you see? Visit the ' +\n",
              "            '<a target=\"_blank\" href=https://colab.research.google.com/notebooks/data_table.ipynb>data table notebook</a>'\n",
              "            + ' to learn more about interactive tables.';\n",
              "          element.innerHTML = '';\n",
              "          dataTable['output_type'] = 'display_data';\n",
              "          await google.colab.output.renderOutput(dataTable, element);\n",
              "          const docLink = document.createElement('div');\n",
              "          docLink.innerHTML = docLinkHtml;\n",
              "          element.appendChild(docLink);\n",
              "        }\n",
              "      </script>\n",
              "    </div>\n",
              "  </div>\n",
              "  "
            ]
          },
          "metadata": {},
          "execution_count": 26
        }
      ]
    },
    {
      "cell_type": "code",
      "source": [
        "rrd.head()"
      ],
      "metadata": {
        "id": "9YMnEWHcYjPz",
        "colab": {
          "base_uri": "https://localhost:8080/",
          "height": 443
        },
        "outputId": "3345faf1-1776-4fa5-e2de-c09d615dfc9c"
      },
      "execution_count": null,
      "outputs": [
        {
          "output_type": "execute_result",
          "data": {
            "text/plain": [
              "   index   source_id                   asassn_name variable_type  parallax  \\\n",
              "0      0  AP28504059  ASASSN-V J185410.32-211713.4           RRD    0.7181   \n",
              "1      1      493116  ASASSN-V J185252.22-224437.9           RRD    0.1553   \n",
              "2      2      460279  ASASSN-V J195422.53-120925.8           RRD    0.0871   \n",
              "3      3      491008  ASASSN-V J165037.55-192451.0           RRD    0.1167   \n",
              "4      4      460288  ASASSN-V J195104.31-140946.9           RRD    0.1842   \n",
              "\n",
              "   mean_vmag      dist    period  parallax_error  absolutemag  \n",
              "0      14.90  1323.036  0.582920          0.0336     4.292142  \n",
              "1      14.70  4692.497  0.460867          0.0290     1.342980  \n",
              "2      14.75  6357.740  0.460880          0.0249     0.733486  \n",
              "3      15.65  5332.960  0.470065          0.0379     2.015158  \n",
              "4      14.85  4203.820  0.587509          0.0269     1.731779  "
            ],
            "text/html": [
              "\n",
              "  <div id=\"df-40148f4d-7e29-4645-aae9-a7846fa17b3a\">\n",
              "    <div class=\"colab-df-container\">\n",
              "      <div>\n",
              "<style scoped>\n",
              "    .dataframe tbody tr th:only-of-type {\n",
              "        vertical-align: middle;\n",
              "    }\n",
              "\n",
              "    .dataframe tbody tr th {\n",
              "        vertical-align: top;\n",
              "    }\n",
              "\n",
              "    .dataframe thead th {\n",
              "        text-align: right;\n",
              "    }\n",
              "</style>\n",
              "<table border=\"1\" class=\"dataframe\">\n",
              "  <thead>\n",
              "    <tr style=\"text-align: right;\">\n",
              "      <th></th>\n",
              "      <th>index</th>\n",
              "      <th>source_id</th>\n",
              "      <th>asassn_name</th>\n",
              "      <th>variable_type</th>\n",
              "      <th>parallax</th>\n",
              "      <th>mean_vmag</th>\n",
              "      <th>dist</th>\n",
              "      <th>period</th>\n",
              "      <th>parallax_error</th>\n",
              "      <th>absolutemag</th>\n",
              "    </tr>\n",
              "  </thead>\n",
              "  <tbody>\n",
              "    <tr>\n",
              "      <th>0</th>\n",
              "      <td>0</td>\n",
              "      <td>AP28504059</td>\n",
              "      <td>ASASSN-V J185410.32-211713.4</td>\n",
              "      <td>RRD</td>\n",
              "      <td>0.7181</td>\n",
              "      <td>14.90</td>\n",
              "      <td>1323.036</td>\n",
              "      <td>0.582920</td>\n",
              "      <td>0.0336</td>\n",
              "      <td>4.292142</td>\n",
              "    </tr>\n",
              "    <tr>\n",
              "      <th>1</th>\n",
              "      <td>1</td>\n",
              "      <td>493116</td>\n",
              "      <td>ASASSN-V J185252.22-224437.9</td>\n",
              "      <td>RRD</td>\n",
              "      <td>0.1553</td>\n",
              "      <td>14.70</td>\n",
              "      <td>4692.497</td>\n",
              "      <td>0.460867</td>\n",
              "      <td>0.0290</td>\n",
              "      <td>1.342980</td>\n",
              "    </tr>\n",
              "    <tr>\n",
              "      <th>2</th>\n",
              "      <td>2</td>\n",
              "      <td>460279</td>\n",
              "      <td>ASASSN-V J195422.53-120925.8</td>\n",
              "      <td>RRD</td>\n",
              "      <td>0.0871</td>\n",
              "      <td>14.75</td>\n",
              "      <td>6357.740</td>\n",
              "      <td>0.460880</td>\n",
              "      <td>0.0249</td>\n",
              "      <td>0.733486</td>\n",
              "    </tr>\n",
              "    <tr>\n",
              "      <th>3</th>\n",
              "      <td>3</td>\n",
              "      <td>491008</td>\n",
              "      <td>ASASSN-V J165037.55-192451.0</td>\n",
              "      <td>RRD</td>\n",
              "      <td>0.1167</td>\n",
              "      <td>15.65</td>\n",
              "      <td>5332.960</td>\n",
              "      <td>0.470065</td>\n",
              "      <td>0.0379</td>\n",
              "      <td>2.015158</td>\n",
              "    </tr>\n",
              "    <tr>\n",
              "      <th>4</th>\n",
              "      <td>4</td>\n",
              "      <td>460288</td>\n",
              "      <td>ASASSN-V J195104.31-140946.9</td>\n",
              "      <td>RRD</td>\n",
              "      <td>0.1842</td>\n",
              "      <td>14.85</td>\n",
              "      <td>4203.820</td>\n",
              "      <td>0.587509</td>\n",
              "      <td>0.0269</td>\n",
              "      <td>1.731779</td>\n",
              "    </tr>\n",
              "  </tbody>\n",
              "</table>\n",
              "</div>\n",
              "      <button class=\"colab-df-convert\" onclick=\"convertToInteractive('df-40148f4d-7e29-4645-aae9-a7846fa17b3a')\"\n",
              "              title=\"Convert this dataframe to an interactive table.\"\n",
              "              style=\"display:none;\">\n",
              "        \n",
              "  <svg xmlns=\"http://www.w3.org/2000/svg\" height=\"24px\"viewBox=\"0 0 24 24\"\n",
              "       width=\"24px\">\n",
              "    <path d=\"M0 0h24v24H0V0z\" fill=\"none\"/>\n",
              "    <path d=\"M18.56 5.44l.94 2.06.94-2.06 2.06-.94-2.06-.94-.94-2.06-.94 2.06-2.06.94zm-11 1L8.5 8.5l.94-2.06 2.06-.94-2.06-.94L8.5 2.5l-.94 2.06-2.06.94zm10 10l.94 2.06.94-2.06 2.06-.94-2.06-.94-.94-2.06-.94 2.06-2.06.94z\"/><path d=\"M17.41 7.96l-1.37-1.37c-.4-.4-.92-.59-1.43-.59-.52 0-1.04.2-1.43.59L10.3 9.45l-7.72 7.72c-.78.78-.78 2.05 0 2.83L4 21.41c.39.39.9.59 1.41.59.51 0 1.02-.2 1.41-.59l7.78-7.78 2.81-2.81c.8-.78.8-2.07 0-2.86zM5.41 20L4 18.59l7.72-7.72 1.47 1.35L5.41 20z\"/>\n",
              "  </svg>\n",
              "      </button>\n",
              "      \n",
              "  <style>\n",
              "    .colab-df-container {\n",
              "      display:flex;\n",
              "      flex-wrap:wrap;\n",
              "      gap: 12px;\n",
              "    }\n",
              "\n",
              "    .colab-df-convert {\n",
              "      background-color: #E8F0FE;\n",
              "      border: none;\n",
              "      border-radius: 50%;\n",
              "      cursor: pointer;\n",
              "      display: none;\n",
              "      fill: #1967D2;\n",
              "      height: 32px;\n",
              "      padding: 0 0 0 0;\n",
              "      width: 32px;\n",
              "    }\n",
              "\n",
              "    .colab-df-convert:hover {\n",
              "      background-color: #E2EBFA;\n",
              "      box-shadow: 0px 1px 2px rgba(60, 64, 67, 0.3), 0px 1px 3px 1px rgba(60, 64, 67, 0.15);\n",
              "      fill: #174EA6;\n",
              "    }\n",
              "\n",
              "    [theme=dark] .colab-df-convert {\n",
              "      background-color: #3B4455;\n",
              "      fill: #D2E3FC;\n",
              "    }\n",
              "\n",
              "    [theme=dark] .colab-df-convert:hover {\n",
              "      background-color: #434B5C;\n",
              "      box-shadow: 0px 1px 3px 1px rgba(0, 0, 0, 0.15);\n",
              "      filter: drop-shadow(0px 1px 2px rgba(0, 0, 0, 0.3));\n",
              "      fill: #FFFFFF;\n",
              "    }\n",
              "  </style>\n",
              "\n",
              "      <script>\n",
              "        const buttonEl =\n",
              "          document.querySelector('#df-40148f4d-7e29-4645-aae9-a7846fa17b3a button.colab-df-convert');\n",
              "        buttonEl.style.display =\n",
              "          google.colab.kernel.accessAllowed ? 'block' : 'none';\n",
              "\n",
              "        async function convertToInteractive(key) {\n",
              "          const element = document.querySelector('#df-40148f4d-7e29-4645-aae9-a7846fa17b3a');\n",
              "          const dataTable =\n",
              "            await google.colab.kernel.invokeFunction('convertToInteractive',\n",
              "                                                     [key], {});\n",
              "          if (!dataTable) return;\n",
              "\n",
              "          const docLinkHtml = 'Like what you see? Visit the ' +\n",
              "            '<a target=\"_blank\" href=https://colab.research.google.com/notebooks/data_table.ipynb>data table notebook</a>'\n",
              "            + ' to learn more about interactive tables.';\n",
              "          element.innerHTML = '';\n",
              "          dataTable['output_type'] = 'display_data';\n",
              "          await google.colab.output.renderOutput(dataTable, element);\n",
              "          const docLink = document.createElement('div');\n",
              "          docLink.innerHTML = docLinkHtml;\n",
              "          element.appendChild(docLink);\n",
              "        }\n",
              "      </script>\n",
              "    </div>\n",
              "  </div>\n",
              "  "
            ]
          },
          "metadata": {},
          "execution_count": 27
        }
      ]
    },
    {
      "cell_type": "markdown",
      "source": [
        "# Parallax & Apparent Magnitude for RRAB subtypes"
      ],
      "metadata": {
        "id": "2UJNSZPjHX0h"
      }
    },
    {
      "cell_type": "code",
      "source": [
        "def get_paramagprint_rrab(index):\n",
        "  rtarray = [rrab[\"parallax\"][index]]\n",
        "  rtarray.append(rrab[\"mean_vmag\"][index])\n",
        "  #return array1\n",
        "  return np.array(rtarray)\n",
        "rrab[\"paramagprint\"] = rrab[\"index\"].apply(get_paramagprint_rrab)\n",
        "rrab.head()\n",
        "X2 = rrab[\"paramagprint\"].values.tolist()\n",
        "y2 = rrab[\"absolutemag\"].values.tolist()\n",
        "\n",
        "X_train2, X_test2, y_train2, y_test2 = train_test_split(X2,y2,test_size=0.2,random_state=42)\n",
        "\n",
        "model = RandomForestRegressor(random_state=42)\n",
        "model.fit(X_train2, y_train2)\n",
        "y_predict2 = model.predict(X_test2)\n",
        "\n",
        "print(\"R2 score is \",metrics.r2_score(y_predict2,y_test2))\n",
        "print(\"mean absolute error is \",metrics.mean_absolute_error(y_predict2,y_test2))\n",
        "print(\"mean_squared_error is \",metrics.mean_squared_error(y_predict2,y_test2))\n",
        "x = np.arange(-2, 5, 10)\n",
        "\n",
        "plt.scatter(y_test2,y_predict2)\n",
        "plt.plot(x,x,color=\"red\")\n",
        "plt.xlabel(\"True values\")\n",
        "plt.ylabel(\"Predicted values\")"
      ],
      "metadata": {
        "colab": {
          "base_uri": "https://localhost:8080/",
          "height": 348
        },
        "id": "MFwtSvp2HbBE",
        "outputId": "c44e6d6e-380a-4f51-ada1-75bb64845146"
      },
      "execution_count": null,
      "outputs": [
        {
          "output_type": "stream",
          "name": "stdout",
          "text": [
            "R2 score is  0.7164486591151453\n",
            "mean absolute error is  0.30794707776410996\n",
            "mean_squared_error is  0.37156236524605835\n"
          ]
        },
        {
          "output_type": "execute_result",
          "data": {
            "text/plain": [
              "Text(0, 0.5, 'Predicted values')"
            ]
          },
          "metadata": {},
          "execution_count": 29
        },
        {
          "output_type": "display_data",
          "data": {
            "text/plain": [
              "<Figure size 432x288 with 1 Axes>"
            ],
            "image/png": "[encoded data removed]"
          },
          "metadata": {
            "needs_background": "light"
          }
        }
      ]
    },
    {
      "cell_type": "markdown",
      "source": [
        "# Parallax & Apparent Magnitude for RRC subtypes"
      ],
      "metadata": {
        "id": "VaSPvvLSHefb"
      }
    },
    {
      "cell_type": "code",
      "source": [
        "def get_paramagprint_rrc(index):\n",
        "  rtarray = [rrc[\"parallax\"][index]]\n",
        "  rtarray.append(rrc[\"mean_vmag\"][index])\n",
        "  #return array1\n",
        "  return np.array(rtarray)\n",
        "rrc[\"paramagprint\"] = rrc[\"index\"].apply(get_paramagprint_rrc)\n",
        "rrc.head()\n",
        "X2 = rrc[\"paramagprint\"].values.tolist()\n",
        "y2 = rrc[\"absolutemag\"].values.tolist()\n",
        "\n",
        "X_train2, X_test2, y_train2, y_test2 = train_test_split(X2,y2,test_size=0.2,random_state=42)\n",
        "\n",
        "model = RandomForestRegressor(random_state=42)\n",
        "model.fit(X_train2, y_train2)\n",
        "y_predict2 = model.predict(X_test2)\n",
        "\n",
        "print(\"R2 score is \",metrics.r2_score(y_predict2,y_test2))\n",
        "print(\"mean absolute error is \",metrics.mean_absolute_error(y_predict2,y_test2))\n",
        "print(\"mean_squared_error is \",metrics.mean_squared_error(y_predict2,y_test2))\n",
        "x = np.arange(-2, 5, 10)\n",
        "\n",
        "plt.scatter(y_test2,y_predict2)\n",
        "plt.plot(x,x,color=\"red\")\n",
        "plt.xlabel(\"True values\")\n",
        "plt.ylabel(\"Predicted values\")"
      ],
      "metadata": {
        "colab": {
          "base_uri": "https://localhost:8080/",
          "height": 348
        },
        "id": "0kCRkYVqHjnX",
        "outputId": "aac91612-9135-401c-c7bf-e99c19808b3b"
      },
      "execution_count": null,
      "outputs": [
        {
          "output_type": "stream",
          "name": "stdout",
          "text": [
            "R2 score is  0.5948337255738001\n",
            "mean absolute error is  0.2828767995034733\n",
            "mean_squared_error is  0.4348827623415587\n"
          ]
        },
        {
          "output_type": "execute_result",
          "data": {
            "text/plain": [
              "Text(0, 0.5, 'Predicted values')"
            ]
          },
          "metadata": {},
          "execution_count": 30
        },
        {
          "output_type": "display_data",
          "data": {
            "text/plain": [
              "<Figure size 432x288 with 1 Axes>"
            ],
            "image/png": "[encoded data removed]"
          },
          "metadata": {
            "needs_background": "light"
          }
        }
      ]
    },
    {
      "cell_type": "markdown",
      "source": [
        "# Parallax & Apparent for RRD subtypes"
      ],
      "metadata": {
        "id": "GFzxEqITHiKM"
      }
    },
    {
      "cell_type": "code",
      "source": [
        "def get_paramagprint_rrc(index):\n",
        "  rtarray = [rrc[\"parallax\"][index]]\n",
        "  rtarray.append(rrc[\"mean_vmag\"][index])\n",
        "  #return array1\n",
        "  return np.array(rtarray)\n",
        "rrc[\"paramagprint\"] = rrc[\"index\"].apply(get_paramagprint_rrc)\n",
        "rrc.head()\n",
        "X2 = rrc[\"paramagprint\"].values.tolist()\n",
        "y2 = rrc[\"absolutemag\"].values.tolist()\n",
        "\n",
        "X_train2, X_test2, y_train2, y_test2 = train_test_split(X2,y2,test_size=0.2,random_state=42)\n",
        "\n",
        "model = RandomForestRegressor(random_state=42)\n",
        "model.fit(X_train2, y_train2)\n",
        "y_predict2 = model.predict(X_test2)\n",
        "\n",
        "print(\"R2 score is \",metrics.r2_score(y_predict2,y_test2))\n",
        "print(\"mean absolute error is \",metrics.mean_absolute_error(y_predict2,y_test2))\n",
        "print(\"mean_squared_error is \",metrics.mean_squared_error(y_predict2,y_test2))\n",
        "x = np.arange(-2, 5, 10)\n",
        "\n",
        "plt.scatter(y_test2,y_predict2)\n",
        "plt.plot(x,x,color=\"red\")\n",
        "plt.xlabel(\"True values\")\n",
        "plt.ylabel(\"Predicted values\")"
      ],
      "metadata": {
        "colab": {
          "base_uri": "https://localhost:8080/",
          "height": 348
        },
        "id": "j7lBPnwpHkZk",
        "outputId": "5eb0c882-fb0d-4592-d601-df8316517b1b"
      },
      "execution_count": null,
      "outputs": [
        {
          "output_type": "stream",
          "name": "stdout",
          "text": [
            "R2 score is  0.5948337255738001\n",
            "mean absolute error is  0.2828767995034733\n",
            "mean_squared_error is  0.4348827623415587\n"
          ]
        },
        {
          "output_type": "execute_result",
          "data": {
            "text/plain": [
              "Text(0, 0.5, 'Predicted values')"
            ]
          },
          "metadata": {},
          "execution_count": 31
        },
        {
          "output_type": "display_data",
          "data": {
            "text/plain": [
              "<Figure size 432x288 with 1 Axes>"
            ],
            "image/png": "[encoded data removed]"
          },
          "metadata": {
            "needs_background": "light"
          }
        }
      ]
    },
    {
      "cell_type": "markdown",
      "source": [
        "# Period Luminosity Trend for RRAB subtypes"
      ],
      "metadata": {
        "id": "3GZK8X8cKKKw"
      }
    },
    {
      "cell_type": "code",
      "source": [
        "def get_periodprint_rrab(index):\n",
        "  rtarray = [rrab[\"period\"][index]]\n",
        "  rtarray.append(rrab[\"period\"][index])\n",
        "  return np.array(rtarray)\n",
        "rrab[\"periodprint\"] = rrab[\"index\"].apply(get_periodprint_rrab)\n",
        "X1 = rrab[\"periodprint\"].values.tolist()\n",
        "y1 = rrab[\"absolutemag\"].values.tolist()\n",
        "\n",
        "X1_train, X1_test, y1_train, y1_test = train_test_split(X1,y1,test_size=0.2,random_state=42)\n",
        "\n",
        "model = RandomForestRegressor(random_state=42)\n",
        "model.fit(X1_train, y1_train)\n",
        "y1_predict = model.predict(X1_test)\n",
        "\n",
        "print(\"R2 score is \",metrics.r2_score(y1_predict,y1_test))\n",
        "print(\"mean absolute error is \",metrics.mean_absolute_error(y1_predict,y1_test))\n",
        "print(\"mean_squared_error is \",metrics.mean_squared_error(y1_predict,y1_test))\n",
        "\n",
        "x1 = np.arange(-2, 5, 10)\n",
        "\n",
        "plt.scatter(y1_test,y1_predict)\n",
        "plt.plot(x1,x1,color=\"red\")\n",
        "plt.xlabel(\"True values\")\n",
        "plt.ylabel(\"Predicted values\")"
      ],
      "metadata": {
        "colab": {
          "base_uri": "https://localhost:8080/",
          "height": 348
        },
        "id": "Ye94agZ9KKzD",
        "outputId": "805a7b75-5dfa-4c3e-8844-80e5420f16b2"
      },
      "execution_count": null,
      "outputs": [
        {
          "output_type": "stream",
          "name": "stdout",
          "text": [
            "R2 score is  -1.6806230980895527\n",
            "mean absolute error is  1.0612237140302043\n",
            "mean_squared_error is  2.157233884484217\n"
          ]
        },
        {
          "output_type": "execute_result",
          "data": {
            "text/plain": [
              "Text(0, 0.5, 'Predicted values')"
            ]
          },
          "metadata": {},
          "execution_count": 33
        },
        {
          "output_type": "display_data",
          "data": {
            "text/plain": [
              "<Figure size 432x288 with 1 Axes>"
            ],
            "image/png": "[encoded data removed]"
          },
          "metadata": {
            "needs_background": "light"
          }
        }
      ]
    },
    {
      "cell_type": "markdown",
      "source": [
        "# Period Luminosity Trend for RRC subtypes"
      ],
      "metadata": {
        "id": "gGNz3K5hKRZY"
      }
    },
    {
      "cell_type": "code",
      "source": [
        "def get_periodprint_rrc(index):\n",
        "  rtarray = [rrc[\"period\"][index]]\n",
        "  rtarray.append(rrc[\"period\"][index])\n",
        "  return np.array(rtarray)\n",
        "rrc[\"periodprint\"] = rrc[\"index\"].apply(get_periodprint_rrc)\n",
        "X1 = rrc[\"periodprint\"].values.tolist()\n",
        "y1 = rrc[\"absolutemag\"].values.tolist()\n",
        "\n",
        "X1_train, X1_test, y1_train, y1_test = train_test_split(X1,y1,test_size=0.2,random_state=42)\n",
        "\n",
        "model = RandomForestRegressor(random_state=42)\n",
        "model.fit(X1_train, y1_train)\n",
        "y1_predict = model.predict(X1_test)\n",
        "\n",
        "print(\"R2 score is \",metrics.r2_score(y1_predict,y1_test))\n",
        "print(\"mean absolute error is \",metrics.mean_absolute_error(y1_predict,y1_test))\n",
        "print(\"mean_squared_error is \",metrics.mean_squared_error(y1_predict,y1_test))\n",
        "\n",
        "x1 = np.arange(-2, 5, 10)\n",
        "\n",
        "plt.scatter(y1_test,y1_predict)\n",
        "plt.plot(x1,x1,color=\"red\")\n",
        "plt.xlabel(\"True values\")\n",
        "plt.ylabel(\"Predicted values\")"
      ],
      "metadata": {
        "colab": {
          "base_uri": "https://localhost:8080/",
          "height": 348
        },
        "id": "ZX6GImVXKRLH",
        "outputId": "9e5b0b02-e1ad-49f5-e70e-d83500d8e749"
      },
      "execution_count": null,
      "outputs": [
        {
          "output_type": "stream",
          "name": "stdout",
          "text": [
            "R2 score is  -2.027953544252166\n",
            "mean absolute error is  0.9274670526976186\n",
            "mean_squared_error is  1.7590578652877567\n"
          ]
        },
        {
          "output_type": "execute_result",
          "data": {
            "text/plain": [
              "Text(0, 0.5, 'Predicted values')"
            ]
          },
          "metadata": {},
          "execution_count": 35
        },
        {
          "output_type": "display_data",
          "data": {
            "text/plain": [
              "<Figure size 432x288 with 1 Axes>"
            ],
            "image/png": "[encoded data removed]"
          },
          "metadata": {
            "needs_background": "light"
          }
        }
      ]
    },
    {
      "cell_type": "markdown",
      "source": [
        "# Period Luminosity Trend for RRD subtypes"
      ],
      "metadata": {
        "id": "XjvU9rjrKR_O"
      }
    },
    {
      "cell_type": "code",
      "source": [
        "def get_periodprint_rrd(index):\n",
        "  rtarray = [rrd[\"period\"][index]]\n",
        "  rtarray.append(rrd[\"period\"][index])\n",
        "  return np.array(rtarray)\n",
        "rrd[\"periodprint\"] = rrd[\"index\"].apply(get_periodprint_rrd)\n",
        "X1 = rrd[\"periodprint\"].values.tolist()\n",
        "y1 = rrd[\"absolutemag\"].values.tolist()\n",
        "\n",
        "X1_train, X1_test, y1_train, y1_test = train_test_split(X1,y1,test_size=0.2,random_state=42)\n",
        "\n",
        "model = RandomForestRegressor(random_state=42)\n",
        "model.fit(X1_train, y1_train)\n",
        "y1_predict = model.predict(X1_test)\n",
        "\n",
        "print(\"R2 score is \",metrics.r2_score(y1_predict,y1_test))\n",
        "print(\"mean absolute error is \",metrics.mean_absolute_error(y1_predict,y1_test))\n",
        "print(\"mean_squared_error is \",metrics.mean_squared_error(y1_predict,y1_test))\n",
        "\n",
        "x1 = np.arange(-2, 5, 10)\n",
        "\n",
        "plt.scatter(y1_test,y1_predict)\n",
        "plt.plot(x1,x1,color=\"red\")\n",
        "plt.xlabel(\"True values\")\n",
        "plt.ylabel(\"Predicted values\")"
      ],
      "metadata": {
        "colab": {
          "base_uri": "https://localhost:8080/",
          "height": 348
        },
        "id": "sTWQJfXfKVjA",
        "outputId": "f58ad92e-237d-4df3-e560-00f4e5d69517"
      },
      "execution_count": null,
      "outputs": [
        {
          "output_type": "stream",
          "name": "stdout",
          "text": [
            "R2 score is  -2.36530850579093\n",
            "mean absolute error is  0.9384285179277406\n",
            "mean_squared_error is  1.5866183243990322\n"
          ]
        },
        {
          "output_type": "execute_result",
          "data": {
            "text/plain": [
              "Text(0, 0.5, 'Predicted values')"
            ]
          },
          "metadata": {},
          "execution_count": 36
        },
        {
          "output_type": "display_data",
          "data": {
            "text/plain": [
              "<Figure size 432x288 with 1 Axes>"
            ],
            "image/png": "[encoded data removed]"
          },
          "metadata": {
            "needs_background": "light"
          }
        }
      ]
    }
  ],
  "metadata": {
    "colab": {
      "provenance": [],
      "mount_file_id": "1xXFe6yuUjtEekqKKCmEnlA8uEG85eNON",
      "authorship_tag": "ABX9TyN7Z6cMb9drNxLMYuGhxL1b",
      "include_colab_link": true
    },
    "kernelspec": {
      "display_name": "Python 3",
      "name": "python3"
    },
    "language_info": {
      "name": "python"
    },
    "accelerator": "TPU",
    "gpuClass": "standard"
  },
  "nbformat": 4,
  "nbformat_minor": 0
}